{
 "cells": [
  {
   "cell_type": "markdown",
   "metadata": {},
   "source": [
    "1.1 Write a Python Program(with class concepts) to find the area of the triangle using the below\n",
    "formula.\n",
    "area = (s*(s-a)*(s-b)*(s-c)) ** 0.5\n",
    "Function to take the length of the sides of triangle from user should be defined in the parent\n",
    "class and function to calculate the area should be defined in subclass."
   ]
  },
  {
   "cell_type": "code",
   "execution_count": 1,
   "metadata": {},
   "outputs": [
    {
     "name": "stdout",
     "output_type": "stream",
     "text": [
      "a=3\n",
      "b=5\n",
      "c=6\n",
      "7.483314773547883\n"
     ]
    }
   ],
   "source": [
    "class Length:\n",
    "    def __init__(self, a, b , c):\n",
    "        self.a=a\n",
    "        self.b=b\n",
    "        self.c=c\n",
    "        \n",
    "a= int(input(\"a=\"))\n",
    "b= int(input(\"b=\"))\n",
    "c= int(input(\"c=\"))\n",
    "\n",
    "class Triangle(Length):\n",
    "    def area(self):\n",
    "        s = (a + b + c) / 2\n",
    "        return (s*(s-a)*(s-b)*(s-c)) ** 0.5\n",
    "tri = Triangle(a,b,c)\n",
    "print(tri.area())"
   ]
  },
  {
   "cell_type": "markdown",
   "metadata": {},
   "source": [
    "1.2 Write a function filter_long_words() that takes a list of words and an integer n and returns\n",
    "the list of words that are longer than n."
   ]
  },
  {
   "cell_type": "code",
   "execution_count": 2,
   "metadata": {},
   "outputs": [
    {
     "name": "stdout",
     "output_type": "stream",
     "text": [
      "['basic', 'phone', 'used', 'nearly', 'decade', 'half', 'today', 'upgraded', 'smartphone.']\n"
     ]
    }
   ],
   "source": [
    "def long_words(n, str):\n",
    "    words = []\n",
    "    txt = str.split(\" \")\n",
    "    for x in txt:\n",
    "        if len(x) > n:\n",
    "            words.append(x)\n",
    "    return words\n",
    "print(long_words(3,\"The basic phone we used nearly a decade and half ago is today upgraded to smartphone.\"))\n"
   ]
  },
  {
   "cell_type": "markdown",
   "metadata": {},
   "source": [
    "2.1 Write a Python program using function concept that maps list of words into a list of integers\n",
    "representing the lengths of the corresponding words.\n",
    "\n",
    "Hint: If a list[ab,cde,erty] is passed on to the python function output should come as [2,3,4]\n",
    "Here 2,3 and 4 are the lengths of the words in the list."
   ]
  },
  {
   "cell_type": "code",
   "execution_count": 3,
   "metadata": {},
   "outputs": [
    {
     "name": "stdout",
     "output_type": "stream",
     "text": [
      "[1, 2, 7, 2, 5]\n"
     ]
    }
   ],
   "source": [
    "words_list=['i','am','working','in','cisco']\n",
    "def word_length(words_list):\n",
    "    return list(map(lambda x : len(x),words_list))\n",
    "    \n",
    "print(word_length(words_list))"
   ]
  },
  {
   "cell_type": "markdown",
   "metadata": {},
   "source": [
    "2.2 Write a Python function which takes a character (i.e. a string of length 1) and returns True if\n",
    "it is a vowel, False otherwise."
   ]
  },
  {
   "cell_type": "code",
   "execution_count": 5,
   "metadata": {},
   "outputs": [
    {
     "name": "stdout",
     "output_type": "stream",
     "text": [
      "True\n",
      "False\n"
     ]
    }
   ],
   "source": [
    "def vowel_check(char):\n",
    "    if (char=='a' or char=='e' or char=='i' or char=='u'):\n",
    "        return True\n",
    "    else:\n",
    "        return False\n",
    "        \n",
    "print(vowel_check('a'))\n",
    "print(vowel_check('t'))\n"
   ]
  },
  {
   "cell_type": "code",
   "execution_count": null,
   "metadata": {},
   "outputs": [],
   "source": []
  }
 ],
 "metadata": {
  "kernelspec": {
   "display_name": "Python 3",
   "language": "python",
   "name": "python3"
  },
  "language_info": {
   "codemirror_mode": {
    "name": "ipython",
    "version": 3
   },
   "file_extension": ".py",
   "mimetype": "text/x-python",
   "name": "python",
   "nbconvert_exporter": "python",
   "pygments_lexer": "ipython3",
   "version": "3.6.10"
  }
 },
 "nbformat": 4,
 "nbformat_minor": 4
}
